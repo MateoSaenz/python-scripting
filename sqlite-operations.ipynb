{
 "cells": [
  {
   "cell_type": "markdown",
   "source": [
    "In this practice notebook, you'll interact with SQLite, a fully compliant SQL database that is supported by Python without any extras needed. We will go through some of the details of connecting to a SQLite database and the differences between some of the options for creating one."
   ],
   "metadata": {}
  },
  {
   "cell_type": "markdown",
   "source": [
    "## Connecting to SQlite\n",
    "There are different ways to connect to a SQLite database. For most connections to databases including SQLite you will need a connection object and a cursor. The connection allows you to communicate with the database while the cursor is what executes the query.\n",
    "Start by connecting to an in-memory database first."
   ],
   "metadata": {}
  },
  {
   "cell_type": "code",
   "execution_count": 31,
   "source": [
    "# SQLite can run in-memory, no file will be created, and when the program ends, the database goes away\n",
    "import sqlite3\n",
    "connection = sqlite3.connect(':memory:')"
   ],
   "outputs": [],
   "metadata": {}
  },
  {
   "cell_type": "markdown",
   "source": [
    "You now have a connection object, and a running database that lives in-memory while this program runs. The next step is to create some tables for the database"
   ],
   "metadata": {}
  },
  {
   "cell_type": "markdown",
   "source": [
    "## Creating a table"
   ],
   "metadata": {}
  },
  {
   "cell_type": "code",
   "execution_count": 3,
   "source": [
    "# define the query to create a table to hold file paths and sizes in bytes for those files\n",
    "table = 'CREATE TABLE files (id integer primary key, path TEXT, bytes INTEGER)'"
   ],
   "outputs": [],
   "metadata": {}
  },
  {
   "cell_type": "markdown",
   "source": [
    "There are two steps for executing the query. First we use the cursor to execute it, and then we commit the result to the database."
   ],
   "metadata": {}
  },
  {
   "cell_type": "code",
   "execution_count": 32,
   "source": [
    "cursor = connection.cursor()\n",
    "cursor.execute(table)\n",
    "connection.commit()"
   ],
   "outputs": [],
   "metadata": {}
  },
  {
   "cell_type": "markdown",
   "source": [
    "Try running the previous code block again. What happens? Is there an error? Why do you think there is an error?"
   ],
   "metadata": {}
  },
  {
   "cell_type": "markdown",
   "source": [
    "## Adding data \n",
    "Now add a single entry into the database. The steps are to execute the query with the cursor and then commit with the `connection` object."
   ],
   "metadata": {}
  },
  {
   "cell_type": "code",
   "execution_count": 33,
   "source": [
    "cursor.execute('INSERT INTO files (path, bytes) VALUES(\"/home/user/.zshrc\", 100)')\n",
    "connection.commit()"
   ],
   "outputs": [],
   "metadata": {}
  },
  {
   "cell_type": "markdown",
   "source": [
    "You can query the database with a minimal instruction to check if the addition was succesful. The query is done with the cursor, just like before. And the resulting object that the cursor returns is an iterable that you can use to loop over the results:"
   ],
   "metadata": {}
  },
  {
   "cell_type": "code",
   "execution_count": 35,
   "source": [
    "result = cursor.execute('SELECT * from files')\n",
    "for line in result:\n",
    "    print(line)"
   ],
   "outputs": [
    {
     "output_type": "stream",
     "name": "stdout",
     "text": [
      "(1, '/home/user/.zshrc', 100)\n"
     ]
    }
   ],
   "metadata": {}
  },
  {
   "cell_type": "markdown",
   "source": [
    "The SQLite database in this notebook is ephemeral: since it was created in-memory, it will go away (along with the data) once you terminate the program."
   ],
   "metadata": {}
  }
 ],
 "metadata": {
  "orig_nbformat": 4,
  "language_info": {
   "name": "python",
   "version": "3.8.10",
   "mimetype": "text/x-python",
   "codemirror_mode": {
    "name": "ipython",
    "version": 3
   },
   "pygments_lexer": "ipython3",
   "nbconvert_exporter": "python",
   "file_extension": ".py"
  },
  "kernelspec": {
   "name": "python3",
   "display_name": "Python 3.8.10 64-bit ('tmp': conda)"
  },
  "interpreter": {
   "hash": "904aaa8d64bef68f2ffda03272599bba12aa237240eb8594526423b3c4f1b9a0"
  }
 },
 "nbformat": 4,
 "nbformat_minor": 2
}